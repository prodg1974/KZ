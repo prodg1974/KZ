{
 "cells": [
  {
   "cell_type": "code",
   "execution_count": null,
   "metadata": {
    "collapsed": false
   },
   "outputs": [],
   "source": [
    "import glob\n",
    "from BeautifulSoup import *\n",
    "import json\n",
    "def get_files(target_dir, file_spec = '*'):\n",
    "    td = target_dir\n",
    "    fs = file_spec\n",
    "    try:\n",
    "        files = glob.glob(td + '*' + fs + '*')\n",
    "    except glob_error as e:\n",
    "        return None\n",
    "    return files\n",
    "\n",
    "class  HtmPage(object):\n",
    "    '''\n",
    "    A page is a single raw collection of html\n",
    "    ''' \n",
    "    def __init__(self,file_name):\n",
    "        '''Initiates a page object with the contents of a file\n",
    "        '''\n",
    "        try:\n",
    "            fname = open(file_name, 'r')\n",
    "        except IOError:\n",
    "            print ('cannot open file:' + file_name)\n",
    "            self.contents = None\n",
    "            self.name = \"I/O Error inititializing HtmPage object\"\n",
    "           \n",
    "            return None\n",
    "        else:\n",
    "            self.contents = fname.read().replace('\\n', '')\n",
    "            self.name = file_name\n",
    "            self.size=len(self.contents)\n",
    "            self.htm_tags = []\n",
    "    def __str__(self):\n",
    "        return self.name\n",
    "    def getName(self):\n",
    "        return self.name\n",
    "    \n",
    "    def getLength(self):\n",
    "        if self.contents is None:\n",
    "            return None\n",
    "        else:\n",
    "            return len(self.contents)\n",
    "\n",
    "    def getTags(self,tag):\n",
    "        '''provides page object with set of tags of type tag and stores\n",
    "        them as a list in instance.tags'''\n",
    "        if self.contents is None:\n",
    "            return None\n",
    "        else:\n",
    "            bsObj = BeautifulSoup(self.contents)\n",
    "            self.htm_tags = bsObj.findAll(tag)\n",
    "        \n",
    "    def getWarcHash(self):\n",
    "        return None\n",
    "    \n",
    "    def getWarc(self):\n",
    "        return None\n",
    "        \n",
    "        "
   ]
  },
  {
   "cell_type": "code",
   "execution_count": 121,
   "metadata": {
    "collapsed": false
   },
   "outputs": [],
   "source": [
    "files = get_files('./', 'meta')"
   ]
  },
  {
   "cell_type": "code",
   "execution_count": 316,
   "metadata": {
    "collapsed": false
   },
   "outputs": [
    {
     "name": "stdout",
     "output_type": "stream",
     "text": [
      "cannot open file:./a_meta.htm\n"
     ]
    }
   ],
   "source": [
    "mypages = {}\n",
    "\n",
    "ctr = 0\n",
    "for f in files:\n",
    "    mypages[ctr] = HtmPage(f)\n",
    "    ctr += 1\n"
   ]
  },
  {
   "cell_type": "code",
   "execution_count": 317,
   "metadata": {
    "collapsed": false
   },
   "outputs": [],
   "source": [
    "s=json.dumps(mypages[1].__dict__)"
   ]
  },
  {
   "cell_type": "code",
   "execution_count": 318,
   "metadata": {
    "collapsed": false
   },
   "outputs": [
    {
     "name": "stdout",
     "output_type": "stream",
     "text": [
      "{\"htm_tags\": [], \"name\": \"./ESIV-HZSCHQA-28-00000008_meta.htm\", \"contents\": \"<!DOCTYPE html PUBLIC \\\"-//W3C//DTD XHTML 1.1//EN\\\"        \\\"http://www.w3.org/TR/xhtml11/DTD/xhtml11.dtd\\\"><html xmlns=\\\"http://www.w3.org/1999/xhtml\\\" xml:lang=\\\"en\\\"><head>    <meta http-equiv=\\\"content-type\\\" content=\\\"text/html; charset=utf-8\\\"/>    <meta name=\\\"keywords\\\" content=\\\"\\\"/>    <title> Web Archive </title>    <link rel=\\\"stylesheet\\\" href=\\\"hanzo_elements/media-screen.css\\\" type=\\\"text/css\\\" media=\\\"screen\\\"/>    <link rel=\\\"alternate stylesheet\\\" href=\\\"hanzo_elements/media-print.css\\\" type=\\\"text/css\\\" media=\\\"print\\\"/>    <link rel=\\\"alternate stylesheet\\\" href=\\\"hanzo_elements/media-handheld.css\\\" type=\\\"text/css\\\" media=\\\"handheld\\\"/>    <!--[if IE 6]>    <link rel=\\\"stylesheet\\\" type=\\\"text/css\\\" media=\\\"screen\\\" href=\\\"hanzo_elements/site-ie6.css\\\"/> <![endif]-->    <!--[if IE 7]>    <link rel=\\\"stylesheet\\\" type=\\\"text/css\\\" media=\\\"screen\\\" href=\\\"hanzo_elements/site-ie7.css\\\"/> <![endif]-->    <!--[if IE 8]>    <link rel=\\\"stylesheet\\\" type=\\\"text/css\\\" media=\\\"screen\\\" href=\\\"hanzo_elements/site-ie8.css\\\"/> <![endif]-->    <link rel=\\\"stylesheet\\\" type=\\\"text/css\\\" href=\\\"hanzo_elements/stylefix.css\\\"/>    <script type=\\\"text/javascript\\\" language=\\\"javascript\\\" src=\\\"hanzo_elements/ouvrepopup.js\\\"></script>    <script type=\\\"text/javascript\\\" language=\\\"javascript\\\" src=\\\"hanzo_elements/checkboxes.js\\\"></script>    <script type=\\\"text/javascript\\\" language=\\\"javascript\\\" src=\\\"hanzo_elements/cssFilter.js\\\"></script>    <script type=\\\"text/javascript\\\" language=\\\"javascript\\\" src=\\\"hanzo_elements/tiroir.js\\\"></script></head><body class=\\\"browse\\\"><div id=\\\"pageWrapper\\\" class=\\\"\\\"><div id=\\\"page\\\" class=\\\"\\\"><div id=\\\"pageContent\\\" class=\\\"content\\\"><!-- Header --><div id=\\\"headerWrapper\\\" class=\\\"\\\">    <div id=\\\"header\\\" class=\\\"\\\">        <div id=\\\"headerContent\\\" class=\\\"content\\\">            <div class=\\\"banner hanzoGreenMenu\\\">                <div class=\\\"bannerContent\\\">                    <div class=\\\"block small left\\\">                        <a class=\\\"logoAlt\\\" href=\\\"http://www.hanzoarchives.com\\\"><span class=\\\"accessibility\\\">hanzo &lt;&lt; archives</span></a>                    </div>                    <div class=\\\"clearer\\\">&nbsp;</div>                </div>            </div>            <div class=\\\"clearer\\\">&nbsp;</div>            <div class=\\\"block antismall left\\\">                <div class=\\\"blockContent\\\">                    <h1 class=\\\"mainTitle\\\">                        Hanzo Archives <a href=\\\"\\\">                        Page Metadata </a></h1>                </div>            </div>            <div class=\\\"clearer\\\">&nbsp;</div>        </div>        <!-- fin div #headerContent -->    </div>    <!-- fin div #header --></div><!-- fin div #headerWrapper --><!-- Main --><div id=\\\"mainWrapper\\\" class=\\\"\\\"><div id=\\\"main\\\" class=\\\"\\\"><div class=\\\"content\\\" id=\\\"document\\\"><div id=\\\"mainsearch\\\"><ul><li>Title: Downloaded mp4 File</li><li>Plan: HZSCHQA-28</li><li>Profile: Twitter</li><li>Crawl Name: HanzoQAScheduledCaptures-HZSCHQA28-201601150000</li><li>Archive Unit: HZSCHQA-28: Regular QA Twitter page capture (2) - Hanzo-Archives 1st and 15th</li><li>Archive Date: Fri, 15 Jan 2016 00:23:09 +0000</li><li>Original Url: <a href='https://v.cdn.vine.co/r/videos/23CCE8FDE71287200074224623616_4be86bd7f75.5.0.4916433146477989403.mp4?versionId=UJ0hyqLIDmKtwvoQCMO8J7dc9bmJjQg7'>https://v.cdn.vine.co/r/videos/23CCE8FDE71287200074224623616_4be86bd7f75.5.0.4916433146477989403.mp4?versionId=UJ0hyqLIDmKtwvoQCMO8J7dc9bmJjQg7</a></li><li>Referer Url: https://vine.co/u/972617199451865088</li><li>Archive Url: <a href='http://portal.hanzoarchives.com/archive/e93de50a-85de-4bca-8e40-8e2bc33bb88c/https://v.cdn.vine.co/r/videos/23CCE8FDE71287200074224623616_4be86bd7f75.5.0.4916433146477989403.mp4?versionId=UJ0hyqLIDmKtwvoQCMO8J7dc9bmJjQg7'>http://portal.hanzoarchives.com/archive/e93de50a-85de-4bca-8e40-8e2bc33bb88c/https://v.cdn.vine.co/r/videos/23CCE8FDE71287200074224623616_4be86bd7f75.5.0.4916433146477989403.mp4?versionId=UJ0hyqLIDmKtwvoQCMO8J7dc9bmJjQg7</a></li><li>Archive Domain: v.cdn.vine.co</li><li>WARC File: HanzoQAScheduledCaptures-HZSCHQA28-201601150000-20160115002225-00000-3d08be83-3cdf-4696-8f05-26cd782da6ab.warc.gz</li><li>WARC File digest: sha256:5d67890bb05e3a4682d9780161886e7e215ffb6674c2d020c338b303b77243b6</li><li>Page ID: &lt;urn:uuid:bdd04d4a-4cea-6e6f-782b-f61b4ae25efd&gt;</li><li>PDF Snapshot Digest: sha256:2baba128f66d9706e4b02c074211949fe6a91cc12ebabe0507fb8a06714b61f1</li><li>Page Type: Web.Page</li></ul><p>&nbsp;</p></div>\\t\\t\\t\\t\\t\\t\\t\\t\\t\\t<div class=\\\"clearer\\\">&nbsp;</div> \\t\\t</div><!-- fin div #mainContent --> \\t\\t</div><!-- fin div #main --> \\t\\t</div><!-- fin div #mainWrapper --> \\t\\t\\t<!-- Footer -->\\t\\t\\t\\t\\t\\t\\t<div id=\\\"footerWrapper\\\" class=\\\"\\\"> \\t\\t<div id=\\\"footer\\\" class=\\\"\\\"> \\t\\t<div id=\\\"footerContent\\\" class=\\\"content\\\"> \\t\\t\\t\\t\\t\\t\\t\\t\\t<div class=\\\"block medium left smallText\\\"> \\t\\t\\t<div class=\\\"blockContent\\\"> \\t\\t\\t\\t\\t\\t\\tCopyright &copy; 2009-2015. Hanzo Archives Limited\\t\\t\\t\\t\\t\\t</div> \\t\\t\\t</div> \\t\\t\\t\\t\\t\\t<div class=\\\"clearer\\\">&nbsp;</div> \\t\\t\\t\\t\\t\\t<div class=\\\"block small left\\\"> \\t\\t\\t<div class=\\\"blockContent\\\"> \\t\\t\\t\\t\\t\\t\\t<h2><a class=\\\"logo\\\" href=\\\"http://www.hanzoarchives.com\\\"><span class=\\\"accessibility\\\">hanzo &lt;&lt; archives</span></a></h2> \\t\\t\\t\\t\\t\\t</div> \\t\\t\\t</div> \\t\\t\\t\\t\\t\\t\\t\\t\\t<div class=\\\"block antismall right\\\"> \\t\\t\\t<div class=\\\"blockContent\\\"> \\t\\t\\t\\t\\t\\t\\t\\t\\t\\t\\t\\t\\t</div> \\t\\t\\t</div> \\t\\t\\t\\t\\t\\t\\t\\t\\t<div class=\\\"clearer\\\">&nbsp;</div> \\t\\t</div><!-- fin div #footerContent --> \\t\\t</div><!-- fin div #footer --> \\t\\t</div><!-- fin div #footerWrapper -->\\t\\t\\t\\t\\t<div class=\\\"clearer\\\">&nbsp;</div> \\t</div><!-- fin div #pageContent --> \\t</div><!-- fin div #page --> \\t</div><!-- fin div #pageWrapper -->  </body> </html>\", \"size\": 5520}\n"
     ]
    }
   ],
   "source": [
    "print s"
   ]
  },
  {
   "cell_type": "code",
   "execution_count": 187,
   "metadata": {
    "collapsed": false
   },
   "outputs": [
    {
     "name": "stdout",
     "output_type": "stream",
     "text": [
      "I/O Error inititializing HtmPage object\n",
      "./ESIV-HZSCHQA-28-00000008_meta.htm\n",
      "./ESIV-HZSCHQA-28-00000009_meta.htm\n"
     ]
    }
   ],
   "source": [
    "for x in mypages:\n",
    "    print mypages[x].name"
   ]
  },
  {
   "cell_type": "code",
   "execution_count": 319,
   "metadata": {
    "collapsed": false
   },
   "outputs": [
    {
     "name": "stdout",
     "output_type": "stream",
     "text": [
      "0\n",
      "None\n",
      "I/O Error inititializing HtmPage object\n",
      "1\n",
      "5520\n",
      "./ESIV-HZSCHQA-28-00000008_meta.htm\n",
      "2\n",
      "5520\n",
      "./ESIV-HZSCHQA-28-00000009_meta.htm\n"
     ]
    }
   ],
   "source": [
    "for x in mypages:\n",
    "    print x\n",
    "    print mypages[x].getLength()\n",
    "    print mypages[x]"
   ]
  },
  {
   "cell_type": "code",
   "execution_count": 197,
   "metadata": {
    "collapsed": false
   },
   "outputs": [],
   "source": [
    "mypages[0].getWarc()"
   ]
  },
  {
   "cell_type": "code",
   "execution_count": 126,
   "metadata": {
    "collapsed": false
   },
   "outputs": [
    {
     "name": "stdout",
     "output_type": "stream",
     "text": [
      "['./a_meta.htm', './ESIV-HZSCHQA-28-00000008_meta.htm', './ESIV-HZSCHQA-28-00000009_meta.htm']\n"
     ]
    }
   ],
   "source": [
    "print files"
   ]
  },
  {
   "cell_type": "code",
   "execution_count": 146,
   "metadata": {
    "collapsed": false,
    "scrolled": true
   },
   "outputs": [
    {
     "name": "stdout",
     "output_type": "stream",
     "text": [
      "{0: <__main__.HtmPage object at 0x10651bad0>, 1: <__main__.HtmPage object at 0x10651bf50>, 2: <__main__.HtmPage object at 0x106464410>}\n"
     ]
    }
   ],
   "source": [
    "print mypages"
   ]
  },
  {
   "cell_type": "code",
   "execution_count": 154,
   "metadata": {
    "collapsed": false
   },
   "outputs": [
    {
     "name": "stdout",
     "output_type": "stream",
     "text": [
      "5520\n"
     ]
    }
   ],
   "source": [
    "print mypages[2].getLength()"
   ]
  },
  {
   "cell_type": "code",
   "execution_count": 308,
   "metadata": {
    "collapsed": false
   },
   "outputs": [],
   "source": [
    "mypages[2].getTags(\"li\")"
   ]
  },
  {
   "cell_type": "code",
   "execution_count": 272,
   "metadata": {
    "collapsed": false
   },
   "outputs": [
    {
     "name": "stdout",
     "output_type": "stream",
     "text": [
      "15\n"
     ]
    }
   ],
   "source": [
    "print len(mypages[2].htm_tags)"
   ]
  },
  {
   "cell_type": "code",
   "execution_count": 309,
   "metadata": {
    "collapsed": false
   },
   "outputs": [
    {
     "name": "stdout",
     "output_type": "stream",
     "text": [
      "Title\n",
      "Plan\n",
      "Profile\n",
      "Crawl Name\n",
      "Archive Unit\n",
      "Archive Date\n",
      "Original Url\n",
      "Referer Url\n",
      "Archive Url\n",
      "Archive Domain\n",
      "WARC File\n",
      "WARC File digest\n",
      "Page ID\n",
      "PDF Snapshot Digest\n",
      "Page Type\n"
     ]
    }
   ],
   "source": [
    "for each_tag in mypages[2].htm_tags:\n",
    "    staininfo_attrb_value = each_tag.text\n",
    "    print staininfo_attrb_value.split(\":\")[0]"
   ]
  },
  {
   "cell_type": "code",
   "execution_count": 297,
   "metadata": {
    "collapsed": false
   },
   "outputs": [
    {
     "name": "stdout",
     "output_type": "stream",
     "text": [
      "ctr: 0 Title: Downloaded mp4 File\n",
      "ctr: 1 Plan: HZSCHQA-28\n",
      "ctr: 2 Profile: Twitter\n",
      "ctr: 3 Crawl Name: HanzoQAScheduledCaptures-HZSCHQA28-201601150000\n",
      "ctr: 4 Archive Unit: HZSCHQA-28: Regular QA Twitter page capture (2) - Hanzo-Archives 1st and 15th\n",
      "ctr: 5 Archive Date: Fri, 15 Jan 2016 00:23:11 +0000\n",
      "ctr: 6 None\n",
      "ctr: 7 Referer Url: https://vine.co/u/972617199451865088\n",
      "ctr: 8 None\n",
      "ctr: 9 Archive Domain: v.cdn.vine.co\n",
      "ctr: 10 WARC File: HanzoQAScheduledCaptures-HZSCHQA28-201601150000-20160115002225-00000-3d08be83-3cdf-4696-8f05-26cd782da6ab.warc.gz\n",
      "ctr: 11 WARC File digest: sha256:5d67890bb05e3a4682d9780161886e7e215ffb6674c2d020c338b303b77243b6\n",
      "ctr: 12 Page ID: &lt;urn:uuid:c7f42d8f-924f-6b4c-1dd3-01c3b5e9d943&gt;\n",
      "ctr: 13 PDF Snapshot Digest: sha256:4cff68de88e6e82fdc15176527801e2eaffd0d24d2ad8036b732b1a4e6950f7c\n",
      "ctr: 14 Page Type: Web.Page\n"
     ]
    }
   ],
   "source": [
    "ctr=0\n",
    "for t in mypages[2].htm_tags:\n",
    "    \n",
    "    #i = t.get_text()\n",
    "    #colon_pos = i.find(\":\")\n",
    "    #print i[3:colon_pos]\n",
    "    \n",
    "    print \"ctr:\", ctr, t.string\n",
    "    ctr +=1"
   ]
  },
  {
   "cell_type": "code",
   "execution_count": 290,
   "metadata": {
    "collapsed": false
   },
   "outputs": [
    {
     "data": {
      "text/plain": [
       "['ALL_ENTITIES',\n",
       " 'BARE_AMPERSAND_OR_BRACKET',\n",
       " 'CHARSET_RE',\n",
       " 'HTML_ENTITIES',\n",
       " 'MARKUP_MASSAGE',\n",
       " 'NESTABLE_BLOCK_TAGS',\n",
       " 'NESTABLE_INLINE_TAGS',\n",
       " 'NESTABLE_LIST_TAGS',\n",
       " 'NESTABLE_TABLE_TAGS',\n",
       " 'NESTABLE_TAGS',\n",
       " 'NON_NESTABLE_BLOCK_TAGS',\n",
       " 'PRESERVE_WHITESPACE_TAGS',\n",
       " 'QUOTE_TAGS',\n",
       " 'RESET_NESTING_TAGS',\n",
       " 'ROOT_TAG_NAME',\n",
       " 'SELF_CLOSING_TAGS',\n",
       " 'STRIP_ASCII_SPACES',\n",
       " 'XHTML_ENTITIES',\n",
       " 'XML_ENTITIES',\n",
       " 'XML_ENTITIES_TO_SPECIAL_CHARS',\n",
       " 'XML_SPECIAL_CHARS_TO_ENTITIES',\n",
       " '__call__',\n",
       " '__class__',\n",
       " '__contains__',\n",
       " '__delattr__',\n",
       " '__delitem__',\n",
       " '__dict__',\n",
       " '__doc__',\n",
       " '__eq__',\n",
       " '__format__',\n",
       " '__getattr__',\n",
       " '__getattribute__',\n",
       " '__getitem__',\n",
       " '__hash__',\n",
       " '__init__',\n",
       " '__iter__',\n",
       " '__len__',\n",
       " '__module__',\n",
       " '__ne__',\n",
       " '__new__',\n",
       " '__nonzero__',\n",
       " '__reduce__',\n",
       " '__reduce_ex__',\n",
       " '__repr__',\n",
       " '__setattr__',\n",
       " '__setitem__',\n",
       " '__sizeof__',\n",
       " '__str__',\n",
       " '__subclasshook__',\n",
       " '__unicode__',\n",
       " '__weakref__',\n",
       " '_convertEntities',\n",
       " '_convert_ref',\n",
       " '_decl_otherchars',\n",
       " '_feed',\n",
       " '_findAll',\n",
       " '_findOne',\n",
       " '_getAttrMap',\n",
       " '_invert',\n",
       " '_lastRecursiveChild',\n",
       " '_parse_doctype_attlist',\n",
       " '_parse_doctype_element',\n",
       " '_parse_doctype_entity',\n",
       " '_parse_doctype_notation',\n",
       " '_parse_doctype_subset',\n",
       " '_popToTag',\n",
       " '_scan_name',\n",
       " '_smartPop',\n",
       " '_sub_entity',\n",
       " '_toStringSubclass',\n",
       " 'append',\n",
       " 'childGenerator',\n",
       " 'clear',\n",
       " 'close',\n",
       " 'convert_charref',\n",
       " 'convert_codepoint',\n",
       " 'convert_entityref',\n",
       " 'decompose',\n",
       " 'endData',\n",
       " 'entity_or_charref',\n",
       " 'entitydefs',\n",
       " 'error',\n",
       " 'extract',\n",
       " 'feed',\n",
       " 'fetch',\n",
       " 'fetchNextSiblings',\n",
       " 'fetchParents',\n",
       " 'fetchPrevious',\n",
       " 'fetchPreviousSiblings',\n",
       " 'fetchText',\n",
       " 'find',\n",
       " 'findAll',\n",
       " 'findAllNext',\n",
       " 'findAllPrevious',\n",
       " 'findChild',\n",
       " 'findChildren',\n",
       " 'findNext',\n",
       " 'findNextSibling',\n",
       " 'findNextSiblings',\n",
       " 'findParent',\n",
       " 'findParents',\n",
       " 'findPrevious',\n",
       " 'findPreviousSibling',\n",
       " 'findPreviousSiblings',\n",
       " 'finish_endtag',\n",
       " 'finish_shorttag',\n",
       " 'finish_starttag',\n",
       " 'first',\n",
       " 'firstText',\n",
       " 'get',\n",
       " 'getString',\n",
       " 'getText',\n",
       " 'get_starttag_text',\n",
       " 'getpos',\n",
       " 'goahead',\n",
       " 'handle_charref',\n",
       " 'handle_comment',\n",
       " 'handle_data',\n",
       " 'handle_decl',\n",
       " 'handle_endtag',\n",
       " 'handle_entityref',\n",
       " 'handle_pi',\n",
       " 'handle_starttag',\n",
       " 'has_key',\n",
       " 'index',\n",
       " 'insert',\n",
       " 'isSelfClosingTag',\n",
       " 'nextGenerator',\n",
       " 'nextSiblingGenerator',\n",
       " 'parentGenerator',\n",
       " 'parse_comment',\n",
       " 'parse_declaration',\n",
       " 'parse_endtag',\n",
       " 'parse_marked_section',\n",
       " 'parse_pi',\n",
       " 'parse_starttag',\n",
       " 'popTag',\n",
       " 'prettify',\n",
       " 'previousGenerator',\n",
       " 'previousSiblingGenerator',\n",
       " 'pushTag',\n",
       " 'recursiveChildGenerator',\n",
       " 'renderContents',\n",
       " 'replaceWith',\n",
       " 'replaceWithChildren',\n",
       " 'report_unbalanced',\n",
       " 'reset',\n",
       " 'setString',\n",
       " 'setliteral',\n",
       " 'setnomoretags',\n",
       " 'setup',\n",
       " 'start_meta',\n",
       " 'string',\n",
       " 'substituteEncoding',\n",
       " 'text',\n",
       " 'toEncoding',\n",
       " 'unknown_charref',\n",
       " 'unknown_decl',\n",
       " 'unknown_endtag',\n",
       " 'unknown_entityref',\n",
       " 'unknown_starttag',\n",
       " 'updatepos']"
      ]
     },
     "execution_count": 290,
     "metadata": {},
     "output_type": "execute_result"
    },
    {
     "name": "stdout",
     "output_type": "stream",
     "text": [
      "\n"
     ]
    }
   ],
   "source": [
    "dir(BeautifulSoup)"
   ]
  }
 ],
 "metadata": {
  "kernelspec": {
   "display_name": "Python (NLK-2.7)",
   "language": "python",
   "name": "nlk"
  },
  "language_info": {
   "codemirror_mode": {
    "name": "ipython",
    "version": 2
   },
   "file_extension": ".py",
   "mimetype": "text/x-python",
   "name": "python",
   "nbconvert_exporter": "python",
   "pygments_lexer": "ipython2",
   "version": "2.7.10"
  }
 },
 "nbformat": 4,
 "nbformat_minor": 0
}
