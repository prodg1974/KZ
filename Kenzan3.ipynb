{
 "cells": [
  {
   "cell_type": "code",
   "execution_count": 59,
   "metadata": {
    "collapsed": false
   },
   "outputs": [],
   "source": [
    "import glob\n",
    "from BeautifulSoup import *\n",
    "import json\n",
    "import sqlite3\n",
    "\n",
    "def get_files(target_dir, file_spec = '*'):\n",
    "    td = target_dir\n",
    "    fs = file_spec\n",
    "    try:\n",
    "        files = glob.glob(td + '*' + fs + '*')\n",
    "    except glob_error as e:\n",
    "        return None\n",
    "    return files\n",
    "\n",
    "class  HtmPage(object):\n",
    "    '''\n",
    "    A page is a single raw collection of html\n",
    "    ''' \n",
    "    def __init__(self,file_name):\n",
    "        '''Initiates a page object with the contents of a file\n",
    "        '''\n",
    "        try:\n",
    "            fname = open(file_name, 'r')\n",
    "        except IOError:\n",
    "            print ('cannot open file:' + file_name)\n",
    "            self.contents = None\n",
    "            self.name = \"I/O Error inititializing HtmPage object\"\n",
    "           \n",
    "            return None\n",
    "        else:\n",
    "            self.contents = fname.read().replace('\\n', '')\n",
    "            self.name = file_name\n",
    "            self.size=len(self.contents)\n",
    "            self.htm_tags = []\n",
    "            self.values = {}\n",
    "\n",
    "    def getName(self):\n",
    "        return self.name\n",
    "    \n",
    "    def getLength(self):\n",
    "        if self.contents is None:\n",
    "            return None\n",
    "        else:\n",
    "            return len(self.contents)\n",
    "\n",
    "    def getTags(self,tag):\n",
    "        '''provides page object with set of beautiful soap\n",
    "        tag objects and stores\n",
    "        them as a list in instance.tags'''\n",
    "        \n",
    "        if self.contents is None:\n",
    "            return None\n",
    "        else:\n",
    "            bsObj = BeautifulSoup(self.contents)\n",
    "            self.htm_tags = bsObj.findAll(tag)\n",
    "        \n",
    "    def getValues(self,tag):\n",
    "        ''' returns key, val tuple from tag by parsing on the first \":\" char\n",
    "        '''\n",
    "        if self.contents is None:\n",
    "            return None\n",
    "        else:\n",
    "            tag_text = tag.text\n",
    "            pos = tag_text.find(\":\")\n",
    "            #split on first \":\", clean leading and trailing whitespace\n",
    "            k = tag_text[0:pos].strip(' \\t\\n\\r')\n",
    "            v = tag_text[pos+1:].strip(' \\t\\n\\r')\n",
    "            return (k,v)\n",
    "    \n",
    "    def getWarc(self):\n",
    "        return None\n",
    "        \n",
    "    def __str__(self):\n",
    "        return self.name        \n",
    "\n",
    "\n",
    "\n",
    "#look in the current directory for files\n",
    "files = get_files('./', 'meta')\n",
    "#dict of HtmPage objects\n",
    "mypages = {}\n",
    "\n",
    "#fill the dict\n",
    "ctr = 0\n",
    "for f in files:\n",
    "    mypages[ctr] = HtmPage(f)\n",
    "    ctr += 1\n",
    "#print 'We have ', str(ctr), ' page objects in mypages{}'\n",
    "\n",
    "#dump the pages to a json struct\n",
    "''' This is done before populating the tag objects onto the HtmPage\n",
    "    objects as they complicate the scruture and will not dump to json without\n",
    "    further work.'''\n",
    "jstruct = ''\n",
    "for page in mypages:\n",
    "    jstruct += json.dumps(mypages[page].__dict__)\n",
    "\n",
    "#print jstruct\n"
   ]
  },
  {
   "cell_type": "code",
   "execution_count": 36,
   "metadata": {
    "collapsed": false
   },
   "outputs": [
    {
     "ename": "AttributeError",
     "evalue": "'HtmPage' object has no attribute 'getKeyVal'",
     "output_type": "error",
     "traceback": [
      "\u001b[0;31m---------------------------------------------------------------------------\u001b[0m",
      "\u001b[0;31mAttributeError\u001b[0m                            Traceback (most recent call last)",
      "\u001b[0;32m<ipython-input-36-7d97b439eae8>\u001b[0m in \u001b[0;36m<module>\u001b[0;34m()\u001b[0m\n\u001b[0;32m----> 1\u001b[0;31m \u001b[0mmypages\u001b[0m\u001b[0;34m[\u001b[0m\u001b[0;36m0\u001b[0m\u001b[0;34m]\u001b[0m\u001b[0;34m.\u001b[0m\u001b[0mgetKeyVal\u001b[0m\u001b[0;34m(\u001b[0m\u001b[0;34m\"\"\u001b[0m\u001b[0;34m)\u001b[0m\u001b[0;34m\u001b[0m\u001b[0m\n\u001b[0m",
      "\u001b[0;31mAttributeError\u001b[0m: 'HtmPage' object has no attribute 'getKeyVal'"
     ]
    }
   ],
   "source": [
    "mypages[0].getValues"
   ]
  },
  {
   "cell_type": "code",
   "execution_count": 60,
   "metadata": {
    "collapsed": false
   },
   "outputs": [],
   "source": [
    "mypages[0].getTags(\"li\")"
   ]
  },
  {
   "cell_type": "code",
   "execution_count": 61,
   "metadata": {
    "collapsed": false
   },
   "outputs": [],
   "source": [
    "k,v = mypages[0].getValues(mypages[0].htm_tags[0])"
   ]
  },
  {
   "cell_type": "code",
   "execution_count": 62,
   "metadata": {
    "collapsed": false
   },
   "outputs": [
    {
     "name": "stdout",
     "output_type": "stream",
     "text": [
      "Downloaded mp4 File\n"
     ]
    }
   ],
   "source": [
    "print v"
   ]
  },
  {
   "cell_type": "code",
   "execution_count": 63,
   "metadata": {
    "collapsed": false
   },
   "outputs": [
    {
     "name": "stdout",
     "output_type": "stream",
     "text": [
      "Title\n"
     ]
    }
   ],
   "source": [
    "print k"
   ]
  }
 ],
 "metadata": {
  "kernelspec": {
   "display_name": "Python (NLK-2.7)",
   "language": "python",
   "name": "nlk"
  },
  "language_info": {
   "codemirror_mode": {
    "name": "ipython",
    "version": 2
   },
   "file_extension": ".py",
   "mimetype": "text/x-python",
   "name": "python",
   "nbconvert_exporter": "python",
   "pygments_lexer": "ipython2",
   "version": "2.7.10"
  }
 },
 "nbformat": 4,
 "nbformat_minor": 0
}
